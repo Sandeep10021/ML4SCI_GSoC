{
 "cells": [
  {
   "cell_type": "markdown",
   "metadata": {},
   "source": [
    "# Task 3\n",
    "\n",
    "   * Part A - Fitting Simple Linear Regression Model\n"
   ]
  },
  {
   "cell_type": "code",
   "execution_count": 1,
   "metadata": {},
   "outputs": [],
   "source": [
    "# Importing package and classes needed\n",
    "import pandas as pd\n",
    "import matplotlib.pyplot as plt\n",
    "import seaborn as sns\n",
    "import numpy as np\n",
    "\n",
    "%matplotlib inline"
   ]
  },
  {
   "cell_type": "code",
   "execution_count": 2,
   "metadata": {},
   "outputs": [],
   "source": [
    "# Importing and reading csv file\n",
    "df=pd.read_csv(\"E:HIGGS_6M.csv\")"
   ]
  },
  {
   "cell_type": "code",
   "execution_count": 3,
   "metadata": {
    "scrolled": true
   },
   "outputs": [
    {
     "data": {
      "text/html": [
       "<div>\n",
       "<style scoped>\n",
       "    .dataframe tbody tr th:only-of-type {\n",
       "        vertical-align: middle;\n",
       "    }\n",
       "\n",
       "    .dataframe tbody tr th {\n",
       "        vertical-align: top;\n",
       "    }\n",
       "\n",
       "    .dataframe thead th {\n",
       "        text-align: right;\n",
       "    }\n",
       "</style>\n",
       "<table border=\"1\" class=\"dataframe\">\n",
       "  <thead>\n",
       "    <tr style=\"text-align: right;\">\n",
       "      <th></th>\n",
       "      <th>1.000000000000000000e+00</th>\n",
       "      <th>8.692932128906250000e-01</th>\n",
       "      <th>-6.350818276405334473e-01</th>\n",
       "      <th>2.256902605295181274e-01</th>\n",
       "      <th>3.274700641632080078e-01</th>\n",
       "      <th>-6.899932026863098145e-01</th>\n",
       "      <th>7.542022466659545898e-01</th>\n",
       "      <th>-2.485731393098831177e-01</th>\n",
       "      <th>-1.092063903808593750e+00</th>\n",
       "      <th>0.000000000000000000e+00</th>\n",
       "      <th>...</th>\n",
       "      <th>-1.045456994324922562e-02</th>\n",
       "      <th>-4.576716944575309753e-02</th>\n",
       "      <th>3.101961374282836914e+00</th>\n",
       "      <th>1.353760004043579102e+00</th>\n",
       "      <th>9.795631170272827148e-01</th>\n",
       "      <th>9.780761599540710449e-01</th>\n",
       "      <th>9.200048446655273438e-01</th>\n",
       "      <th>7.216574549674987793e-01</th>\n",
       "      <th>9.887509346008300781e-01</th>\n",
       "      <th>8.766783475875854492e-01</th>\n",
       "    </tr>\n",
       "  </thead>\n",
       "  <tbody>\n",
       "    <tr>\n",
       "      <th>0</th>\n",
       "      <td>1.0</td>\n",
       "      <td>0.907542</td>\n",
       "      <td>0.329147</td>\n",
       "      <td>0.359412</td>\n",
       "      <td>1.497970</td>\n",
       "      <td>-0.313010</td>\n",
       "      <td>1.095531</td>\n",
       "      <td>-0.557525</td>\n",
       "      <td>-1.588230</td>\n",
       "      <td>2.173076</td>\n",
       "      <td>...</td>\n",
       "      <td>-1.138930</td>\n",
       "      <td>-0.000819</td>\n",
       "      <td>0.000000</td>\n",
       "      <td>0.302220</td>\n",
       "      <td>0.833048</td>\n",
       "      <td>0.985700</td>\n",
       "      <td>0.978098</td>\n",
       "      <td>0.779732</td>\n",
       "      <td>0.992356</td>\n",
       "      <td>0.798343</td>\n",
       "    </tr>\n",
       "    <tr>\n",
       "      <th>1</th>\n",
       "      <td>1.0</td>\n",
       "      <td>0.798835</td>\n",
       "      <td>1.470639</td>\n",
       "      <td>-1.635975</td>\n",
       "      <td>0.453773</td>\n",
       "      <td>0.425629</td>\n",
       "      <td>1.104875</td>\n",
       "      <td>1.282322</td>\n",
       "      <td>1.381664</td>\n",
       "      <td>0.000000</td>\n",
       "      <td>...</td>\n",
       "      <td>1.128848</td>\n",
       "      <td>0.900461</td>\n",
       "      <td>0.000000</td>\n",
       "      <td>0.909753</td>\n",
       "      <td>1.108330</td>\n",
       "      <td>0.985692</td>\n",
       "      <td>0.951331</td>\n",
       "      <td>0.803252</td>\n",
       "      <td>0.865924</td>\n",
       "      <td>0.780118</td>\n",
       "    </tr>\n",
       "    <tr>\n",
       "      <th>2</th>\n",
       "      <td>0.0</td>\n",
       "      <td>1.344385</td>\n",
       "      <td>-0.876626</td>\n",
       "      <td>0.935913</td>\n",
       "      <td>1.992050</td>\n",
       "      <td>0.882454</td>\n",
       "      <td>1.786066</td>\n",
       "      <td>-1.646778</td>\n",
       "      <td>-0.942383</td>\n",
       "      <td>0.000000</td>\n",
       "      <td>...</td>\n",
       "      <td>-0.678379</td>\n",
       "      <td>-1.360356</td>\n",
       "      <td>0.000000</td>\n",
       "      <td>0.946652</td>\n",
       "      <td>1.028704</td>\n",
       "      <td>0.998656</td>\n",
       "      <td>0.728281</td>\n",
       "      <td>0.869200</td>\n",
       "      <td>1.026736</td>\n",
       "      <td>0.957904</td>\n",
       "    </tr>\n",
       "    <tr>\n",
       "      <th>3</th>\n",
       "      <td>1.0</td>\n",
       "      <td>1.105009</td>\n",
       "      <td>0.321356</td>\n",
       "      <td>1.522401</td>\n",
       "      <td>0.882808</td>\n",
       "      <td>-1.205349</td>\n",
       "      <td>0.681466</td>\n",
       "      <td>-1.070464</td>\n",
       "      <td>-0.921871</td>\n",
       "      <td>0.000000</td>\n",
       "      <td>...</td>\n",
       "      <td>-0.373566</td>\n",
       "      <td>0.113041</td>\n",
       "      <td>0.000000</td>\n",
       "      <td>0.755856</td>\n",
       "      <td>1.361057</td>\n",
       "      <td>0.986610</td>\n",
       "      <td>0.838085</td>\n",
       "      <td>1.133295</td>\n",
       "      <td>0.872245</td>\n",
       "      <td>0.808487</td>\n",
       "    </tr>\n",
       "    <tr>\n",
       "      <th>4</th>\n",
       "      <td>0.0</td>\n",
       "      <td>1.595839</td>\n",
       "      <td>-0.607811</td>\n",
       "      <td>0.007075</td>\n",
       "      <td>1.818450</td>\n",
       "      <td>-0.111906</td>\n",
       "      <td>0.847550</td>\n",
       "      <td>-0.566437</td>\n",
       "      <td>1.581239</td>\n",
       "      <td>2.173076</td>\n",
       "      <td>...</td>\n",
       "      <td>-0.654227</td>\n",
       "      <td>-1.274345</td>\n",
       "      <td>3.101961</td>\n",
       "      <td>0.823761</td>\n",
       "      <td>0.938191</td>\n",
       "      <td>0.971758</td>\n",
       "      <td>0.789176</td>\n",
       "      <td>0.430553</td>\n",
       "      <td>0.961357</td>\n",
       "      <td>0.957818</td>\n",
       "    </tr>\n",
       "  </tbody>\n",
       "</table>\n",
       "<p>5 rows × 29 columns</p>\n",
       "</div>"
      ],
      "text/plain": [
       "   1.000000000000000000e+00  8.692932128906250000e-01  \\\n",
       "0                       1.0                  0.907542   \n",
       "1                       1.0                  0.798835   \n",
       "2                       0.0                  1.344385   \n",
       "3                       1.0                  1.105009   \n",
       "4                       0.0                  1.595839   \n",
       "\n",
       "   -6.350818276405334473e-01  2.256902605295181274e-01  \\\n",
       "0                   0.329147                  0.359412   \n",
       "1                   1.470639                 -1.635975   \n",
       "2                  -0.876626                  0.935913   \n",
       "3                   0.321356                  1.522401   \n",
       "4                  -0.607811                  0.007075   \n",
       "\n",
       "   3.274700641632080078e-01  -6.899932026863098145e-01  \\\n",
       "0                  1.497970                  -0.313010   \n",
       "1                  0.453773                   0.425629   \n",
       "2                  1.992050                   0.882454   \n",
       "3                  0.882808                  -1.205349   \n",
       "4                  1.818450                  -0.111906   \n",
       "\n",
       "   7.542022466659545898e-01  -2.485731393098831177e-01  \\\n",
       "0                  1.095531                  -0.557525   \n",
       "1                  1.104875                   1.282322   \n",
       "2                  1.786066                  -1.646778   \n",
       "3                  0.681466                  -1.070464   \n",
       "4                  0.847550                  -0.566437   \n",
       "\n",
       "   -1.092063903808593750e+00  0.000000000000000000e+00  ...  \\\n",
       "0                  -1.588230                  2.173076  ...   \n",
       "1                   1.381664                  0.000000  ...   \n",
       "2                  -0.942383                  0.000000  ...   \n",
       "3                  -0.921871                  0.000000  ...   \n",
       "4                   1.581239                  2.173076  ...   \n",
       "\n",
       "   -1.045456994324922562e-02  -4.576716944575309753e-02  \\\n",
       "0                  -1.138930                  -0.000819   \n",
       "1                   1.128848                   0.900461   \n",
       "2                  -0.678379                  -1.360356   \n",
       "3                  -0.373566                   0.113041   \n",
       "4                  -0.654227                  -1.274345   \n",
       "\n",
       "   3.101961374282836914e+00  1.353760004043579102e+00  \\\n",
       "0                  0.000000                  0.302220   \n",
       "1                  0.000000                  0.909753   \n",
       "2                  0.000000                  0.946652   \n",
       "3                  0.000000                  0.755856   \n",
       "4                  3.101961                  0.823761   \n",
       "\n",
       "   9.795631170272827148e-01  9.780761599540710449e-01  \\\n",
       "0                  0.833048                  0.985700   \n",
       "1                  1.108330                  0.985692   \n",
       "2                  1.028704                  0.998656   \n",
       "3                  1.361057                  0.986610   \n",
       "4                  0.938191                  0.971758   \n",
       "\n",
       "   9.200048446655273438e-01  7.216574549674987793e-01  \\\n",
       "0                  0.978098                  0.779732   \n",
       "1                  0.951331                  0.803252   \n",
       "2                  0.728281                  0.869200   \n",
       "3                  0.838085                  1.133295   \n",
       "4                  0.789176                  0.430553   \n",
       "\n",
       "   9.887509346008300781e-01  8.766783475875854492e-01  \n",
       "0                  0.992356                  0.798343  \n",
       "1                  0.865924                  0.780118  \n",
       "2                  1.026736                  0.957904  \n",
       "3                  0.872245                  0.808487  \n",
       "4                  0.961357                  0.957818  \n",
       "\n",
       "[5 rows x 29 columns]"
      ]
     },
     "execution_count": 3,
     "metadata": {},
     "output_type": "execute_result"
    }
   ],
   "source": [
    "# Displaying top 5 row\n",
    "df.head()"
   ]
  },
  {
   "cell_type": "code",
   "execution_count": 4,
   "metadata": {},
   "outputs": [
    {
     "name": "stdout",
     "output_type": "stream",
     "text": [
      "<class 'pandas.core.frame.DataFrame'>\n",
      "RangeIndex: 5999999 entries, 0 to 5999998\n",
      "Data columns (total 29 columns):\n",
      " #   Column                      Dtype  \n",
      "---  ------                      -----  \n",
      " 0   1.000000000000000000e+00    float64\n",
      " 1   8.692932128906250000e-01    float64\n",
      " 2   -6.350818276405334473e-01   float64\n",
      " 3   2.256902605295181274e-01    float64\n",
      " 4   3.274700641632080078e-01    float64\n",
      " 5   -6.899932026863098145e-01   float64\n",
      " 6   7.542022466659545898e-01    float64\n",
      " 7   -2.485731393098831177e-01   float64\n",
      " 8   -1.092063903808593750e+00   float64\n",
      " 9   0.000000000000000000e+00    float64\n",
      " 10  1.374992132186889648e+00    float64\n",
      " 11  -6.536741852760314941e-01   float64\n",
      " 12  9.303491115570068359e-01    float64\n",
      " 13  1.107436060905456543e+00    float64\n",
      " 14  1.138904333114624023e+00    float64\n",
      " 15  -1.578198313713073730e+00   float64\n",
      " 16  -1.046985387802124023e+00   float64\n",
      " 17  0.000000000000000000e+00.1  float64\n",
      " 18  6.579295396804809570e-01    float64\n",
      " 19  -1.045456994324922562e-02   float64\n",
      " 20  -4.576716944575309753e-02   float64\n",
      " 21  3.101961374282836914e+00    float64\n",
      " 22  1.353760004043579102e+00    float64\n",
      " 23  9.795631170272827148e-01    float64\n",
      " 24  9.780761599540710449e-01    float64\n",
      " 25  9.200048446655273438e-01    float64\n",
      " 26  7.216574549674987793e-01    float64\n",
      " 27  9.887509346008300781e-01    float64\n",
      " 28  8.766783475875854492e-01    float64\n",
      "dtypes: float64(29)\n",
      "memory usage: 1.3 GB\n"
     ]
    }
   ],
   "source": [
    "# Getting Information about the data types used and also for checking for null values\n",
    "df.info()"
   ]
  },
  {
   "cell_type": "code",
   "execution_count": 5,
   "metadata": {},
   "outputs": [
    {
     "name": "stdout",
     "output_type": "stream",
     "text": [
      "1.0    3178344\n",
      "0.0    2821655\n",
      "Name: 1.000000000000000000e+00, dtype: int64\n",
      "Zeros 47.03 % of the dataset\n",
      "Ones 52.97 % of the dataset\n"
     ]
    }
   ],
   "source": [
    "# Anaylsing the distribution of classes\n",
    "# data[\"column_name\"].value_counts(), returns unique values in that column\n",
    "\n",
    "print(df['1.000000000000000000e+00'].value_counts())\n",
    "print('Zeros', round(df['1.000000000000000000e+00'].value_counts()[0]/len(df) * 100,2), '% of the dataset')\n",
    "print('Ones', round(df['1.000000000000000000e+00'].value_counts()[1]/len(df) * 100,2), '% of the dataset')"
   ]
  },
  {
   "cell_type": "code",
   "execution_count": 6,
   "metadata": {},
   "outputs": [
    {
     "name": "stdout",
     "output_type": "stream",
     "text": [
      "1.0    0.000167\n",
      "0.0    0.000167\n",
      "Name: 1.000000000000000000e+00, dtype: float64\n"
     ]
    }
   ],
   "source": [
    "Ones_df = df.loc[df['1.000000000000000000e+00'] == 1][0:1000] # smaples which have fraud\n",
    "Zeros_df = df.loc[df['1.000000000000000000e+00'] == 0][0:1000] #   \n",
    "\n",
    "normal_distributed_df = pd.concat([Ones_df, Zeros_df])\n",
    "\n",
    "# Shuffle dataframe rows\n",
    "df_new= normal_distributed_df.sample(frac=1, random_state=100)\n",
    "\n",
    "print(df_new['1.000000000000000000e+00'].value_counts()/len(df))"
   ]
  },
  {
   "cell_type": "code",
   "execution_count": 7,
   "metadata": {},
   "outputs": [
    {
     "name": "stdout",
     "output_type": "stream",
     "text": [
      "<class 'pandas.core.frame.DataFrame'>\n",
      "Int64Index: 2000 entries, 58 to 1180\n",
      "Data columns (total 29 columns):\n",
      " #   Column                      Non-Null Count  Dtype  \n",
      "---  ------                      --------------  -----  \n",
      " 0   1.000000000000000000e+00    2000 non-null   float64\n",
      " 1   8.692932128906250000e-01    2000 non-null   float64\n",
      " 2   -6.350818276405334473e-01   2000 non-null   float64\n",
      " 3   2.256902605295181274e-01    2000 non-null   float64\n",
      " 4   3.274700641632080078e-01    2000 non-null   float64\n",
      " 5   -6.899932026863098145e-01   2000 non-null   float64\n",
      " 6   7.542022466659545898e-01    2000 non-null   float64\n",
      " 7   -2.485731393098831177e-01   2000 non-null   float64\n",
      " 8   -1.092063903808593750e+00   2000 non-null   float64\n",
      " 9   0.000000000000000000e+00    2000 non-null   float64\n",
      " 10  1.374992132186889648e+00    2000 non-null   float64\n",
      " 11  -6.536741852760314941e-01   2000 non-null   float64\n",
      " 12  9.303491115570068359e-01    2000 non-null   float64\n",
      " 13  1.107436060905456543e+00    2000 non-null   float64\n",
      " 14  1.138904333114624023e+00    2000 non-null   float64\n",
      " 15  -1.578198313713073730e+00   2000 non-null   float64\n",
      " 16  -1.046985387802124023e+00   2000 non-null   float64\n",
      " 17  0.000000000000000000e+00.1  2000 non-null   float64\n",
      " 18  6.579295396804809570e-01    2000 non-null   float64\n",
      " 19  -1.045456994324922562e-02   2000 non-null   float64\n",
      " 20  -4.576716944575309753e-02   2000 non-null   float64\n",
      " 21  3.101961374282836914e+00    2000 non-null   float64\n",
      " 22  1.353760004043579102e+00    2000 non-null   float64\n",
      " 23  9.795631170272827148e-01    2000 non-null   float64\n",
      " 24  9.780761599540710449e-01    2000 non-null   float64\n",
      " 25  9.200048446655273438e-01    2000 non-null   float64\n",
      " 26  7.216574549674987793e-01    2000 non-null   float64\n",
      " 27  9.887509346008300781e-01    2000 non-null   float64\n",
      " 28  8.766783475875854492e-01    2000 non-null   float64\n",
      "dtypes: float64(29)\n",
      "memory usage: 468.8 KB\n"
     ]
    }
   ],
   "source": [
    "df_new.info()"
   ]
  },
  {
   "cell_type": "code",
   "execution_count": 8,
   "metadata": {},
   "outputs": [],
   "source": [
    "# Importing package for train-test split of datasets to avoid overfitting\n",
    "\n",
    "from sklearn.model_selection import train_test_split\n",
    "from sklearn.preprocessing import StandardScaler\n",
    "from sklearn.metrics import roc_curve"
   ]
  },
  {
   "cell_type": "code",
   "execution_count": 9,
   "metadata": {},
   "outputs": [],
   "source": [
    "# separating dependent and independent feature\n",
    "\n",
    "X = df_new.drop(\"1.000000000000000000e+00\",axis=1) \n",
    "y = df_new[\"1.000000000000000000e+00\"]"
   ]
  },
  {
   "cell_type": "code",
   "execution_count": 10,
   "metadata": {},
   "outputs": [
    {
     "name": "stdout",
     "output_type": "stream",
     "text": [
      "Shape of training dataset: (1200, 28)\n",
      "Shape of test dataset: (800, 28)\n"
     ]
    }
   ],
   "source": [
    "#Feature matrix \n",
    "\n",
    "#Train-Test split\n",
    "# Following an 60-40 split on data.\n",
    "# The dataset is shuffled with 100 as the random seed for reproducible results.\n",
    "\n",
    "X_train,X_test,y_train,y_test = train_test_split(X,y,shuffle=True,test_size=0.4,random_state=100)\n",
    "print(\"Shape of training dataset:\",X_train.shape)\n",
    "print(\"Shape of test dataset:\",X_test.shape)"
   ]
  },
  {
   "cell_type": "code",
   "execution_count": 11,
   "metadata": {},
   "outputs": [],
   "source": [
    "#Feature Normalization\n",
    "# standardization-or-mean-removal-and-variance-scaling\n",
    "\n",
    "scaler = StandardScaler()\n",
    "scaler.fit(X_train)\n",
    "X_train = scaler.transform(X_train)\n",
    "X_test = scaler.transform(X_test)\n",
    "\n",
    "#Adding x0 = 1 to each instance for the bias term\n",
    "\n",
    "X_train = np.concatenate((np.ones((X_train.shape[0],1)),X_train),axis=1)\n",
    "X_test = np.concatenate((np.ones((X_test.shape[0],1)),X_test),axis=1)"
   ]
  },
  {
   "cell_type": "code",
   "execution_count": 12,
   "metadata": {},
   "outputs": [],
   "source": [
    "# Importing Package for Logistic Regression model and to show some metric\n",
    "\n",
    "from sklearn.linear_model import LogisticRegression\n",
    "from sklearn.metrics import accuracy_score, f1_score, classification_report, confusion_matrix, ConfusionMatrixDisplay"
   ]
  },
  {
   "cell_type": "code",
   "execution_count": 13,
   "metadata": {},
   "outputs": [
    {
     "data": {
      "text/plain": [
       "LogisticRegression()"
      ]
     },
     "execution_count": 13,
     "metadata": {},
     "output_type": "execute_result"
    }
   ],
   "source": [
    "# Calling LogisticRegression function and using fit method on training datasets\n",
    "\n",
    "logmodel = LogisticRegression()\n",
    "logmodel.fit(X_train,y_train)"
   ]
  },
  {
   "cell_type": "code",
   "execution_count": 14,
   "metadata": {},
   "outputs": [],
   "source": [
    "# predicting output using predict method of logistic Regression function\n",
    "\n",
    "y_pred = logmodel.predict(X_test)"
   ]
  },
  {
   "cell_type": "code",
   "execution_count": 15,
   "metadata": {},
   "outputs": [],
   "source": [
    "false_positive, true_positive, threshold1 = roc_curve(y_test, y_pred)"
   ]
  },
  {
   "cell_type": "code",
   "execution_count": 16,
   "metadata": {},
   "outputs": [
    {
     "data": {
      "text/plain": [
       "<sklearn.metrics._plot.confusion_matrix.ConfusionMatrixDisplay at 0x1b1a6c0ee80>"
      ]
     },
     "execution_count": 16,
     "metadata": {},
     "output_type": "execute_result"
    },
    {
     "data": {
      "image/png": "[encoded data removed]",
      "text/plain": [
       "<Figure size 432x288 with 2 Axes>"
      ]
     },
     "metadata": {
      "needs_background": "light"
     },
     "output_type": "display_data"
    }
   ],
   "source": [
    "# Plotting \n",
    "# Confusion Matrix\n",
    "\n",
    "class_labels = df_new['1.000000000000000000e+00'].unique()\n",
    "cm = confusion_matrix(y_test, y_pred, labels=class_labels)\n",
    "disp = ConfusionMatrixDisplay(confusion_matrix=cm, display_labels=class_labels)\n",
    "disp.plot()"
   ]
  },
  {
   "cell_type": "code",
   "execution_count": 17,
   "metadata": {},
   "outputs": [
    {
     "data": {
      "image/png": "[encoded data removed]",
      "text/plain": [
       "<Figure size 360x360 with 1 Axes>"
      ]
     },
     "metadata": {
      "needs_background": "light"
     },
     "output_type": "display_data"
    }
   ],
   "source": [
    "plt.subplots(1, figsize=(5,5))\n",
    "plt.title('Receiver Operating Characteristic - Logistic regression')\n",
    "plt.plot(false_positive, true_positive)\n",
    "plt.plot([0, 1], ls=\"--\")\n",
    "plt.plot([0, 0], [1, 0] , c=\".7\"), plt.plot([1, 1] , c=\".7\")\n",
    "plt.ylabel('True Positive')\n",
    "plt.xlabel('False Positive')\n",
    "plt.show()"
   ]
  },
  {
   "cell_type": "code",
   "execution_count": 18,
   "metadata": {},
   "outputs": [
    {
     "data": {
      "text/plain": [
       "0.64625"
      ]
     },
     "execution_count": 18,
     "metadata": {},
     "output_type": "execute_result"
    }
   ],
   "source": [
    "# Calculating model accuarcy\n",
    "accuracy=accuracy_score(y_test,y_pred)\n",
    "accuracy"
   ]
  },
  {
   "cell_type": "markdown",
   "metadata": {},
   "source": [
    "  ## Final Testing\n",
    "    "
   ]
  },
  {
   "cell_type": "code",
   "execution_count": 19,
   "metadata": {},
   "outputs": [],
   "source": [
    "df_test=df[5499999:]"
   ]
  },
  {
   "cell_type": "code",
   "execution_count": 20,
   "metadata": {},
   "outputs": [],
   "source": [
    "# separating dependent and independent feature\n",
    "\n",
    "X_final_test= df_test.drop(\"1.000000000000000000e+00\",axis=1) \n",
    "y_final_test = df_test[\"1.000000000000000000e+00\"]"
   ]
  },
  {
   "cell_type": "code",
   "execution_count": 21,
   "metadata": {},
   "outputs": [],
   "source": [
    "#Feature Normalization\n",
    "# standardization-or-mean-removal-and-variance-scaling\n",
    "X_final_test = scaler.transform(X_final_test)\n",
    "\n",
    "#Adding x0 = 1 to each instance for the bias term\n",
    "X_final_test = np.concatenate((np.ones((X_final_test.shape[0],1)),X_final_test),axis=1)"
   ]
  },
  {
   "cell_type": "code",
   "execution_count": 22,
   "metadata": {},
   "outputs": [
    {
     "data": {
      "image/png": "[encoded data removed]",
      "text/plain": [
       "<Figure size 432x288 with 2 Axes>"
      ]
     },
     "metadata": {
      "needs_background": "light"
     },
     "output_type": "display_data"
    },
    {
     "data": {
      "image/png": "[encoded data removed]",
      "text/plain": [
       "<Figure size 360x360 with 1 Axes>"
      ]
     },
     "metadata": {
      "needs_background": "light"
     },
     "output_type": "display_data"
    },
    {
     "data": {
      "text/plain": [
       "0.616652"
      ]
     },
     "execution_count": 22,
     "metadata": {},
     "output_type": "execute_result"
    }
   ],
   "source": [
    "# predicting output using predict method of logistic Regression function\n",
    "y_final_pred = logmodel.predict(X_final_test)\n",
    "false_positive_test, true_positive_test, threshold1 = roc_curve(y_final_test, y_final_pred)\n",
    "# Plotting \n",
    "# Confusion Matrix\n",
    "class_labels = df_test['1.000000000000000000e+00'].unique()\n",
    "cm_new= confusion_matrix(y_final_test, y_final_pred, labels=class_labels)\n",
    "disp_new= ConfusionMatrixDisplay(confusion_matrix=cm_new, display_labels=class_labels)\n",
    "disp_new.plot()\n",
    "\n",
    "#ROC Plotting\n",
    "plt.subplots(1, figsize=(5,5))\n",
    "plt.title('Receiver Operating Characteristic - Logistic regression')\n",
    "plt.plot(false_positive_test, true_positive_test)\n",
    "plt.plot([0, 1], ls=\"--\")\n",
    "plt.plot([0, 0], [1, 0] , c=\".7\"), plt.plot([1, 1] , c=\".7\")\n",
    "plt.ylabel('True Positive')\n",
    "plt.xlabel('False Positive')\n",
    "plt.show()\n",
    "\n",
    "# Calculating model accuarcy\n",
    "accuracy_test=accuracy_score(y_final_test,y_final_pred)\n",
    "accuracy_test"
   ]
  },
  {
   "cell_type": "code",
   "execution_count": null,
   "metadata": {},
   "outputs": [],
   "source": []
  }
 ],
 "metadata": {
  "kernelspec": {
   "display_name": "Python 3",
   "language": "python",
   "name": "python3"
  },
  "language_info": {
   "codemirror_mode": {
    "name": "ipython",
    "version": 3
   },
   "file_extension": ".py",
   "mimetype": "text/x-python",
   "name": "python",
   "nbconvert_exporter": "python",
   "pygments_lexer": "ipython3",
   "version": "3.8.5"
  }
 },
 "nbformat": 4,
 "nbformat_minor": 4
}
